{
 "cells": [
  {
   "cell_type": "code",
   "execution_count": 2,
   "id": "6dc3d09a",
   "metadata": {},
   "outputs": [],
   "source": [
    "import pathlib\n",
    "import shutil\n",
    "import urllib.request"
   ]
  },
  {
   "cell_type": "code",
   "execution_count": null,
   "id": "82eb0efc",
   "metadata": {},
   "outputs": [],
   "source": [
    "zip_url = \"https://github.com/RadiotherapyAI/unet-workshop/releases/download/mini-parotid/mini-parotid.zip\"\n",
    "zip_filepath = 'data.zip'\n",
    "\n",
    "data_directory = pathlib.Path('data')\n",
    "\n",
    "if not data_directory.exists():\n",
    "    urllib.request.urlretrieve(zip_url, zip_filepath)\n",
    "    shutil.unpack_archive(zip_filepath, data_directory)"
   ]
  },
  {
   "cell_type": "code",
   "execution_count": null,
   "id": "e7c530f8",
   "metadata": {},
   "outputs": [],
   "source": [
    "zip_url = \"https://github.com/RadiotherapyAI/unet-workshop/releases/download/mini-parotid/mini-parotid.zip\""
   ]
  }
 ],
 "metadata": {
  "kernelspec": {
   "display_name": "Python 3",
   "language": "python",
   "name": "python3"
  },
  "language_info": {
   "codemirror_mode": {
    "name": "ipython",
    "version": 3
   },
   "file_extension": ".py",
   "mimetype": "text/x-python",
   "name": "python",
   "nbconvert_exporter": "python",
   "pygments_lexer": "ipython3",
   "version": "3.8.9"
  }
 },
 "nbformat": 4,
 "nbformat_minor": 5
}
